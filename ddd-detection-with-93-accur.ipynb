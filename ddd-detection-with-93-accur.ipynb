{
 "cells": [
  {
   "cell_type": "markdown",
   "metadata": {},
   "source": [
    "# libraries"
   ]
  },
  {
   "cell_type": "code",
   "execution_count": 9,
   "metadata": {
    "_cell_guid": "b1076dfc-b9ad-4769-8c92-a6c4dae69d19",
    "_uuid": "8f2839f25d086af736a60e9eeb907d3b93b6e0e5",
    "execution": {
     "iopub.execute_input": "2024-12-27T10:12:19.207553Z",
     "iopub.status.busy": "2024-12-27T10:12:19.207237Z",
     "iopub.status.idle": "2024-12-27T10:12:31.275944Z",
     "shell.execute_reply": "2024-12-27T10:12:31.274977Z",
     "shell.execute_reply.started": "2024-12-27T10:12:19.207524Z"
    },
    "trusted": true
   },
   "outputs": [],
   "source": [
    "# Import necessary libraries\n",
    "\n",
    " # For interacting with the operating system\n",
    "import os \n",
    "\n",
    "# For numerical operations on arrays\n",
    "import numpy as np  \n",
    "\n",
    "# For image processing\n",
    "import cv2  \n",
    "\n",
    " # For generating random numbers\n",
    "import random \n",
    "\n",
    "# For plotting and visualization\n",
    "import matplotlib.pyplot as plt  \n",
    "\n",
    "\n",
    "# Import specific functionalities from TensorFlow and Scikit-learn\n",
    "\n",
    "# For deep learning\n",
    "import tensorflow as tf \n",
    "\n",
    "# For data augmentation\n",
    "from tensorflow.keras.preprocessing.image import ImageDataGenerator \n",
    "\n",
    "# For converting labels to one-hot encoding\n",
    "from tensorflow.keras.utils import to_categorical  \n",
    "\n",
    "# For building and loading models\n",
    "from tensorflow.keras.models import Sequential, load_model  \n",
    "\n",
    "# For splitting data into training and validation sets\n",
    "from sklearn.model_selection import train_test_split \n",
    "from sklearn.metrics import confusion_matrix, ConfusionMatrixDisplay\n",
    "\n",
    "# For building layers of the neural network\n",
    "from tensorflow.keras.layers import Conv2D, MaxPooling2D, Flatten, Dense, Dropout  \n"
   ]
  },
  {
   "cell_type": "markdown",
   "metadata": {},
   "source": [
    "# Load Dataset"
   ]
  },
  {
   "cell_type": "code",
   "execution_count": 10,
   "metadata": {
    "execution": {
     "iopub.execute_input": "2024-12-27T10:12:31.277938Z",
     "iopub.status.busy": "2024-12-27T10:12:31.277459Z",
     "iopub.status.idle": "2024-12-27T10:13:00.091497Z",
     "shell.execute_reply": "2024-12-27T10:13:00.090570Z",
     "shell.execute_reply.started": "2024-12-27T10:12:31.277907Z"
    },
    "trusted": true
   },
   "outputs": [
    {
     "name": "stdout",
     "output_type": "stream",
     "text": [
      "Images shape: (2900, 150, 150)\n",
      "Labels shape: (2900,)\n"
     ]
    }
   ],
   "source": [
    "# Initialize lists to hold images and their corresponding labels\n",
    "images = []\n",
    "labels = []\n",
    "\n",
    "# Loop through each label directory\n",
    "for index, label in enumerate(['Closed', 'Open', 'no_yawn', 'yawn']):  # Assign numeric labels: 0, 1, 2, 3\n",
    "    \n",
    "    train_path = r'D:\\Courses\\DEPI\\graduation Project\\Datasets\\CNN'\n",
    "    \n",
    "    images_folder_path = os.path.join(train_path, label)  # Construct the path to the image folder for the current label\n",
    "\n",
    "    # Loop through all images in the current label directory\n",
    "    for image_number in os.listdir(images_folder_path):\n",
    "        # Construct the full path to the image\n",
    "        image_path = os.path.join(images_folder_path, image_number)\n",
    "        \n",
    "        # Read the image using matplotlib\n",
    "        image = plt.imread(image_path)\n",
    "        \n",
    "        # Resize the image to (150, 150) using OpenCV\n",
    "        resized_image = cv2.resize(image, (150, 150))\n",
    "        \n",
    "        # Convert the image to grayscale\n",
    "        image = cv2.cvtColor(resized_image, cv2.COLOR_BGR2GRAY) \n",
    "        \n",
    "        # Append the processed image and its label to the respective lists\n",
    "        images.append(image)\n",
    "        labels.append(index) # numeric labels\n",
    "\n",
    "# Convert the lists of images and labels to NumPy arrays for efficient numerical operations\n",
    "images = np.array(images)\n",
    "labels = np.array(labels)\n",
    "\n",
    "print(f\"Images shape: {images.shape}\")\n",
    "print(f\"Labels shape: {labels.shape}\")\n"
   ]
  },
  {
   "cell_type": "markdown",
   "metadata": {},
   "source": [
    "# Split Data"
   ]
  },
  {
   "cell_type": "code",
   "execution_count": 11,
   "metadata": {
    "execution": {
     "iopub.status.busy": "2024-12-26T21:21:11.413862Z",
     "iopub.status.idle": "2024-12-26T21:21:11.414366Z",
     "shell.execute_reply": "2024-12-26T21:21:11.414067Z",
     "shell.execute_reply.started": "2024-12-26T21:21:11.414042Z"
    },
    "trusted": true
   },
   "outputs": [
    {
     "name": "stdout",
     "output_type": "stream",
     "text": [
      "Train set: (1740, 150, 150, 1), (1740, 4)\n",
      "Validation set: (580, 150, 150, 1), (580, 4)\n",
      "Test set: (580, 150, 150, 1), (580, 4)\n"
     ]
    }
   ],
   "source": [
    "# Ensure the images have an additional channel dimension for compatibility with CNNs\n",
    "images = np.expand_dims(images, axis=-1)\n",
    "\n",
    "# Split the data into training and temporary sets (60% training, 40% temporary)\n",
    "x_train, x_temp, y_train, y_temp = train_test_split(images, labels, test_size=0.4, \n",
    "                                                    shuffle=True, random_state=42)\n",
    "\n",
    "# Split the temporary set into validation and test sets (20% each from the original data)\n",
    "x_test, x_val, y_test, y_val = train_test_split(x_temp, y_temp, test_size=0.5, \n",
    "                                                shuffle=True, random_state=42)\n",
    "\n",
    "# Convert the labels to one-hot encoded format for the neural network\n",
    "y_train = to_categorical(y_train, num_classes=4)\n",
    "y_val = to_categorical(y_val, num_classes=4)\n",
    "y_test = to_categorical(y_test, num_classes=4)\n",
    "\n",
    "# Print the shapes of the training, validation, and test sets\n",
    "print(f'Train set: {x_train.shape}, {y_train.shape}') \n",
    "print(f'Validation set: {x_val.shape}, {y_val.shape}')\n",
    "print(f'Test set: {x_test.shape}, {y_test.shape}')\n"
   ]
  },
  {
   "cell_type": "markdown",
   "metadata": {},
   "source": [
    "# Data Augmentation"
   ]
  },
  {
   "cell_type": "code",
   "execution_count": 12,
   "metadata": {
    "execution": {
     "iopub.status.busy": "2024-12-26T21:21:11.415946Z",
     "iopub.status.idle": "2024-12-26T21:21:11.416284Z",
     "shell.execute_reply": "2024-12-26T21:21:11.416126Z",
     "shell.execute_reply.started": "2024-12-26T21:21:11.416110Z"
    },
    "trusted": true
   },
   "outputs": [],
   "source": [
    "# Import the necessary library for data augmentation\n",
    "from tensorflow.keras.preprocessing.image import ImageDataGenerator\n",
    "\n",
    "# Define custom contrast adjustment function\n",
    "def random_contrast(image, lower=0.9, upper=1.1):\n",
    "    return tf.image.random_contrast(image, lower=lower, upper=upper)\n",
    "\n",
    "# Define custom preprocessing function\n",
    "def custom_preprocess(image):\n",
    "    image = random_contrast(image)\n",
    "    return image\n",
    "\n",
    "# Define ImageDataGenerators for data augmentation and normalization\n",
    "train_datagen = ImageDataGenerator(\n",
    "    rescale=1./255,\n",
    "    horizontal_flip=True,\n",
    "    vertical_flip=True,\n",
    "    brightness_range=[0.9, 1.1],\n",
    "    preprocessing_function=custom_preprocess\n",
    ")\n",
    "\n",
    "val_test_datagen = ImageDataGenerator(rescale=1./255)  # Rescale pixel values for validation and test data to the range [0, 1]\n",
    "\n",
    "# Create data generators for training, validation, and test sets\n",
    "train_generator = train_datagen.flow(x_train, y_train, batch_size=32)  # Generate batches of tensor image data for training\n",
    "val_generator = val_test_datagen.flow(x_val, y_val, batch_size=32)  # Generate batches of tensor image data for validation\n",
    "test_generator = val_test_datagen.flow(x_test, y_test, batch_size=32)  # Generate batches of tensor image data for testing\n"
   ]
  },
  {
   "cell_type": "markdown",
   "metadata": {},
   "source": [
    "# Model"
   ]
  },
  {
   "cell_type": "code",
   "execution_count": 13,
   "metadata": {
    "execution": {
     "iopub.status.busy": "2024-12-26T21:21:11.417569Z",
     "iopub.status.idle": "2024-12-26T21:21:11.417877Z",
     "shell.execute_reply": "2024-12-26T21:21:11.417752Z",
     "shell.execute_reply.started": "2024-12-26T21:21:11.417737Z"
    },
    "trusted": true
   },
   "outputs": [
    {
     "name": "stdout",
     "output_type": "stream",
     "text": [
      "Input shape: (150, 150, 1)\n"
     ]
    },
    {
     "name": "stderr",
     "output_type": "stream",
     "text": [
      "C:\\Users\\Turkish\\AppData\\Local\\Packages\\PythonSoftwareFoundation.Python.3.12_qbz5n2kfra8p0\\LocalCache\\local-packages\\Python312\\site-packages\\keras\\src\\layers\\convolutional\\base_conv.py:107: UserWarning: Do not pass an `input_shape`/`input_dim` argument to a layer. When using Sequential models, prefer using an `Input(shape)` object as the first layer in the model instead.\n",
      "  super().__init__(activity_regularizer=activity_regularizer, **kwargs)\n"
     ]
    }
   ],
   "source": [
    "# Determine the input shape for the CNN based on the shape of the images\n",
    "input_shape = images.shape[1:] \n",
    "print(\"Input shape:\", input_shape)\n",
    "\n",
    "# Define a function to create the CNN model\n",
    "def create_model():\n",
    "    model = Sequential([\n",
    "        Conv2D(32, (3, 3), activation='relu', input_shape=input_shape),  # First convolutional layer\n",
    "        MaxPooling2D(pool_size=(2, 2)),  # First max pooling layer\n",
    "        Conv2D(64, (3, 3), activation='relu'),  # Second convolutional layer\n",
    "        MaxPooling2D(pool_size=(2, 2)),  # Second max pooling layer\n",
    "        Conv2D(128, (3, 3), activation='relu'),  # Third convolutional layer\n",
    "        MaxPooling2D(pool_size=(2, 2)),  # Third max pooling layer\n",
    "        Flatten(),  # Flatten the feature map to a 1D vector\n",
    "        Dense(256, activation='relu'),  # Fully connected layer with 256 units\n",
    "        Dropout(0.5),  # Dropout layer to prevent overfitting\n",
    "        Dense(4, activation='softmax')  # Output layer with 4 units (one for each class)\n",
    "    ])\n",
    "    return model\n",
    "\n",
    "# Create the CNN model using the defined function\n",
    "model = create_model()\n",
    "\n",
    "# Compile the model with Adam optimizer, categorical cross-entropy loss, and accuracy metric\n",
    "model.compile(optimizer='adam', loss='categorical_crossentropy', metrics=['accuracy'])\n"
   ]
  },
  {
   "cell_type": "markdown",
   "metadata": {},
   "source": [
    "# Train The Model"
   ]
  },
  {
   "cell_type": "code",
   "execution_count": 14,
   "metadata": {
    "execution": {
     "iopub.status.busy": "2024-12-26T21:21:11.418934Z",
     "iopub.status.idle": "2024-12-26T21:21:11.419269Z",
     "shell.execute_reply": "2024-12-26T21:21:11.419105Z",
     "shell.execute_reply.started": "2024-12-26T21:21:11.419091Z"
    },
    "trusted": true
   },
   "outputs": [
    {
     "name": "stderr",
     "output_type": "stream",
     "text": [
      "C:\\Users\\Turkish\\AppData\\Local\\Packages\\PythonSoftwareFoundation.Python.3.12_qbz5n2kfra8p0\\LocalCache\\local-packages\\Python312\\site-packages\\keras\\src\\trainers\\data_adapters\\py_dataset_adapter.py:121: UserWarning: Your `PyDataset` class should call `super().__init__(**kwargs)` in its constructor. `**kwargs` can include `workers`, `use_multiprocessing`, `max_queue_size`. Do not pass these arguments to `fit()`, as they will be ignored.\n",
      "  self._warn_if_super_not_called()\n"
     ]
    },
    {
     "name": "stdout",
     "output_type": "stream",
     "text": [
      "Epoch 1/50\n",
      "\u001b[1m55/55\u001b[0m \u001b[32m━━━━━━━━━━━━━━━━━━━━\u001b[0m\u001b[37m\u001b[0m \u001b[1m25s\u001b[0m 403ms/step - accuracy: 0.4690 - loss: 1.0678 - val_accuracy: 0.6517 - val_loss: 0.6180\n",
      "Epoch 2/50\n",
      "\u001b[1m55/55\u001b[0m \u001b[32m━━━━━━━━━━━━━━━━━━━━\u001b[0m\u001b[37m\u001b[0m \u001b[1m19s\u001b[0m 349ms/step - accuracy: 0.6992 - loss: 0.5787 - val_accuracy: 0.6966 - val_loss: 0.5095\n",
      "Epoch 3/50\n",
      "\u001b[1m55/55\u001b[0m \u001b[32m━━━━━━━━━━━━━━━━━━━━\u001b[0m\u001b[37m\u001b[0m \u001b[1m20s\u001b[0m 357ms/step - accuracy: 0.7668 - loss: 0.4766 - val_accuracy: 0.7500 - val_loss: 0.4486\n",
      "Epoch 4/50\n",
      "\u001b[1m55/55\u001b[0m \u001b[32m━━━━━━━━━━━━━━━━━━━━\u001b[0m\u001b[37m\u001b[0m \u001b[1m22s\u001b[0m 396ms/step - accuracy: 0.7847 - loss: 0.4253 - val_accuracy: 0.7672 - val_loss: 0.4497\n",
      "Epoch 5/50\n",
      "\u001b[1m55/55\u001b[0m \u001b[32m━━━━━━━━━━━━━━━━━━━━\u001b[0m\u001b[37m\u001b[0m \u001b[1m21s\u001b[0m 373ms/step - accuracy: 0.8142 - loss: 0.3998 - val_accuracy: 0.8000 - val_loss: 0.3743\n",
      "Epoch 6/50\n",
      "\u001b[1m55/55\u001b[0m \u001b[32m━━━━━━━━━━━━━━━━━━━━\u001b[0m\u001b[37m\u001b[0m \u001b[1m21s\u001b[0m 386ms/step - accuracy: 0.8227 - loss: 0.3593 - val_accuracy: 0.7707 - val_loss: 0.4125\n",
      "Epoch 7/50\n",
      "\u001b[1m55/55\u001b[0m \u001b[32m━━━━━━━━━━━━━━━━━━━━\u001b[0m\u001b[37m\u001b[0m \u001b[1m22s\u001b[0m 396ms/step - accuracy: 0.8405 - loss: 0.3515 - val_accuracy: 0.8138 - val_loss: 0.3664\n",
      "Epoch 8/50\n",
      "\u001b[1m55/55\u001b[0m \u001b[32m━━━━━━━━━━━━━━━━━━━━\u001b[0m\u001b[37m\u001b[0m \u001b[1m21s\u001b[0m 386ms/step - accuracy: 0.8382 - loss: 0.3196 - val_accuracy: 0.7966 - val_loss: 0.3917\n",
      "Epoch 9/50\n",
      "\u001b[1m55/55\u001b[0m \u001b[32m━━━━━━━━━━━━━━━━━━━━\u001b[0m\u001b[37m\u001b[0m \u001b[1m20s\u001b[0m 366ms/step - accuracy: 0.8338 - loss: 0.3493 - val_accuracy: 0.8190 - val_loss: 0.3368\n",
      "Epoch 10/50\n",
      "\u001b[1m55/55\u001b[0m \u001b[32m━━━━━━━━━━━━━━━━━━━━\u001b[0m\u001b[37m\u001b[0m \u001b[1m19s\u001b[0m 344ms/step - accuracy: 0.8594 - loss: 0.3044 - val_accuracy: 0.8345 - val_loss: 0.3269\n",
      "Epoch 11/50\n",
      "\u001b[1m55/55\u001b[0m \u001b[32m━━━━━━━━━━━━━━━━━━━━\u001b[0m\u001b[37m\u001b[0m \u001b[1m19s\u001b[0m 352ms/step - accuracy: 0.8381 - loss: 0.3200 - val_accuracy: 0.8345 - val_loss: 0.3143\n",
      "Epoch 12/50\n",
      "\u001b[1m55/55\u001b[0m \u001b[32m━━━━━━━━━━━━━━━━━━━━\u001b[0m\u001b[37m\u001b[0m \u001b[1m22s\u001b[0m 394ms/step - accuracy: 0.8609 - loss: 0.2991 - val_accuracy: 0.8534 - val_loss: 0.3151\n",
      "Epoch 13/50\n",
      "\u001b[1m55/55\u001b[0m \u001b[32m━━━━━━━━━━━━━━━━━━━━\u001b[0m\u001b[37m\u001b[0m \u001b[1m23s\u001b[0m 414ms/step - accuracy: 0.8669 - loss: 0.2668 - val_accuracy: 0.8224 - val_loss: 0.3327\n",
      "Epoch 14/50\n",
      "\u001b[1m55/55\u001b[0m \u001b[32m━━━━━━━━━━━━━━━━━━━━\u001b[0m\u001b[37m\u001b[0m \u001b[1m23s\u001b[0m 422ms/step - accuracy: 0.8960 - loss: 0.2415 - val_accuracy: 0.8586 - val_loss: 0.2977\n",
      "Epoch 15/50\n",
      "\u001b[1m55/55\u001b[0m \u001b[32m━━━━━━━━━━━━━━━━━━━━\u001b[0m\u001b[37m\u001b[0m \u001b[1m21s\u001b[0m 376ms/step - accuracy: 0.8920 - loss: 0.2317 - val_accuracy: 0.8603 - val_loss: 0.3024\n",
      "Epoch 16/50\n",
      "\u001b[1m55/55\u001b[0m \u001b[32m━━━━━━━━━━━━━━━━━━━━\u001b[0m\u001b[37m\u001b[0m \u001b[1m22s\u001b[0m 401ms/step - accuracy: 0.9064 - loss: 0.2291 - val_accuracy: 0.8534 - val_loss: 0.3192\n",
      "Epoch 17/50\n",
      "\u001b[1m55/55\u001b[0m \u001b[32m━━━━━━━━━━━━━━━━━━━━\u001b[0m\u001b[37m\u001b[0m \u001b[1m21s\u001b[0m 382ms/step - accuracy: 0.9045 - loss: 0.2109 - val_accuracy: 0.8707 - val_loss: 0.3133\n",
      "Epoch 18/50\n",
      "\u001b[1m55/55\u001b[0m \u001b[32m━━━━━━━━━━━━━━━━━━━━\u001b[0m\u001b[37m\u001b[0m \u001b[1m19s\u001b[0m 346ms/step - accuracy: 0.9051 - loss: 0.2071 - val_accuracy: 0.8534 - val_loss: 0.3189\n",
      "Epoch 19/50\n",
      "\u001b[1m55/55\u001b[0m \u001b[32m━━━━━━━━━━━━━━━━━━━━\u001b[0m\u001b[37m\u001b[0m \u001b[1m21s\u001b[0m 386ms/step - accuracy: 0.9129 - loss: 0.1973 - val_accuracy: 0.8759 - val_loss: 0.2445\n",
      "Epoch 20/50\n",
      "\u001b[1m55/55\u001b[0m \u001b[32m━━━━━━━━━━━━━━━━━━━━\u001b[0m\u001b[37m\u001b[0m \u001b[1m20s\u001b[0m 368ms/step - accuracy: 0.9134 - loss: 0.1825 - val_accuracy: 0.8845 - val_loss: 0.2460\n",
      "Epoch 21/50\n",
      "\u001b[1m55/55\u001b[0m \u001b[32m━━━━━━━━━━━━━━━━━━━━\u001b[0m\u001b[37m\u001b[0m \u001b[1m22s\u001b[0m 392ms/step - accuracy: 0.9254 - loss: 0.1739 - val_accuracy: 0.8914 - val_loss: 0.2715\n",
      "Epoch 22/50\n",
      "\u001b[1m55/55\u001b[0m \u001b[32m━━━━━━━━━━━━━━━━━━━━\u001b[0m\u001b[37m\u001b[0m \u001b[1m22s\u001b[0m 399ms/step - accuracy: 0.9273 - loss: 0.1642 - val_accuracy: 0.8828 - val_loss: 0.2759\n",
      "Epoch 23/50\n",
      "\u001b[1m55/55\u001b[0m \u001b[32m━━━━━━━━━━━━━━━━━━━━\u001b[0m\u001b[37m\u001b[0m \u001b[1m21s\u001b[0m 380ms/step - accuracy: 0.9295 - loss: 0.1723 - val_accuracy: 0.8862 - val_loss: 0.2585\n",
      "Epoch 24/50\n",
      "\u001b[1m55/55\u001b[0m \u001b[32m━━━━━━━━━━━━━━━━━━━━\u001b[0m\u001b[37m\u001b[0m \u001b[1m21s\u001b[0m 381ms/step - accuracy: 0.9343 - loss: 0.1813 - val_accuracy: 0.8983 - val_loss: 0.2337\n",
      "Epoch 25/50\n",
      "\u001b[1m55/55\u001b[0m \u001b[32m━━━━━━━━━━━━━━━━━━━━\u001b[0m\u001b[37m\u001b[0m \u001b[1m21s\u001b[0m 380ms/step - accuracy: 0.9403 - loss: 0.1500 - val_accuracy: 0.8983 - val_loss: 0.2684\n",
      "Epoch 26/50\n",
      "\u001b[1m55/55\u001b[0m \u001b[32m━━━━━━━━━━━━━━━━━━━━\u001b[0m\u001b[37m\u001b[0m \u001b[1m21s\u001b[0m 375ms/step - accuracy: 0.9384 - loss: 0.1437 - val_accuracy: 0.9034 - val_loss: 0.2407\n",
      "Epoch 27/50\n",
      "\u001b[1m55/55\u001b[0m \u001b[32m━━━━━━━━━━━━━━━━━━━━\u001b[0m\u001b[37m\u001b[0m \u001b[1m20s\u001b[0m 372ms/step - accuracy: 0.9477 - loss: 0.1468 - val_accuracy: 0.9000 - val_loss: 0.2430\n",
      "Epoch 28/50\n",
      "\u001b[1m55/55\u001b[0m \u001b[32m━━━━━━━━━━━━━━━━━━━━\u001b[0m\u001b[37m\u001b[0m \u001b[1m20s\u001b[0m 367ms/step - accuracy: 0.9473 - loss: 0.1501 - val_accuracy: 0.9224 - val_loss: 0.2015\n",
      "Epoch 29/50\n",
      "\u001b[1m55/55\u001b[0m \u001b[32m━━━━━━━━━━━━━━━━━━━━\u001b[0m\u001b[37m\u001b[0m \u001b[1m20s\u001b[0m 361ms/step - accuracy: 0.9571 - loss: 0.1076 - val_accuracy: 0.9207 - val_loss: 0.2255\n",
      "Epoch 30/50\n",
      "\u001b[1m55/55\u001b[0m \u001b[32m━━━━━━━━━━━━━━━━━━━━\u001b[0m\u001b[37m\u001b[0m \u001b[1m19s\u001b[0m 349ms/step - accuracy: 0.9539 - loss: 0.1316 - val_accuracy: 0.9293 - val_loss: 0.1860\n",
      "Epoch 31/50\n",
      "\u001b[1m55/55\u001b[0m \u001b[32m━━━━━━━━━━━━━━━━━━━━\u001b[0m\u001b[37m\u001b[0m \u001b[1m20s\u001b[0m 362ms/step - accuracy: 0.9569 - loss: 0.1035 - val_accuracy: 0.9155 - val_loss: 0.2325\n",
      "Epoch 32/50\n",
      "\u001b[1m55/55\u001b[0m \u001b[32m━━━━━━━━━━━━━━━━━━━━\u001b[0m\u001b[37m\u001b[0m \u001b[1m23s\u001b[0m 423ms/step - accuracy: 0.9541 - loss: 0.1181 - val_accuracy: 0.9172 - val_loss: 0.2185\n",
      "Epoch 33/50\n",
      "\u001b[1m55/55\u001b[0m \u001b[32m━━━━━━━━━━━━━━━━━━━━\u001b[0m\u001b[37m\u001b[0m \u001b[1m21s\u001b[0m 376ms/step - accuracy: 0.9648 - loss: 0.1015 - val_accuracy: 0.9328 - val_loss: 0.1929\n",
      "Epoch 34/50\n",
      "\u001b[1m55/55\u001b[0m \u001b[32m━━━━━━━━━━━━━━━━━━━━\u001b[0m\u001b[37m\u001b[0m \u001b[1m21s\u001b[0m 376ms/step - accuracy: 0.9669 - loss: 0.0913 - val_accuracy: 0.9345 - val_loss: 0.1838\n",
      "Epoch 35/50\n",
      "\u001b[1m55/55\u001b[0m \u001b[32m━━━━━━━━━━━━━━━━━━━━\u001b[0m\u001b[37m\u001b[0m \u001b[1m22s\u001b[0m 406ms/step - accuracy: 0.9700 - loss: 0.0751 - val_accuracy: 0.9345 - val_loss: 0.1882\n",
      "Epoch 36/50\n",
      "\u001b[1m55/55\u001b[0m \u001b[32m━━━━━━━━━━━━━━━━━━━━\u001b[0m\u001b[37m\u001b[0m \u001b[1m20s\u001b[0m 368ms/step - accuracy: 0.9734 - loss: 0.0697 - val_accuracy: 0.9345 - val_loss: 0.1898\n",
      "Epoch 37/50\n",
      "\u001b[1m55/55\u001b[0m \u001b[32m━━━━━━━━━━━━━━━━━━━━\u001b[0m\u001b[37m\u001b[0m \u001b[1m18s\u001b[0m 334ms/step - accuracy: 0.9675 - loss: 0.0940 - val_accuracy: 0.9379 - val_loss: 0.1908\n",
      "Epoch 38/50\n",
      "\u001b[1m55/55\u001b[0m \u001b[32m━━━━━━━━━━━━━━━━━━━━\u001b[0m\u001b[37m\u001b[0m \u001b[1m21s\u001b[0m 378ms/step - accuracy: 0.9686 - loss: 0.0803 - val_accuracy: 0.9310 - val_loss: 0.2242\n",
      "Epoch 39/50\n",
      "\u001b[1m55/55\u001b[0m \u001b[32m━━━━━━━━━━━━━━━━━━━━\u001b[0m\u001b[37m\u001b[0m \u001b[1m20s\u001b[0m 364ms/step - accuracy: 0.9747 - loss: 0.0729 - val_accuracy: 0.9241 - val_loss: 0.2263\n",
      "Epoch 40/50\n",
      "\u001b[1m55/55\u001b[0m \u001b[32m━━━━━━━━━━━━━━━━━━━━\u001b[0m\u001b[37m\u001b[0m \u001b[1m19s\u001b[0m 352ms/step - accuracy: 0.9710 - loss: 0.0833 - val_accuracy: 0.9207 - val_loss: 0.2269\n",
      "Epoch 41/50\n",
      "\u001b[1m55/55\u001b[0m \u001b[32m━━━━━━━━━━━━━━━━━━━━\u001b[0m\u001b[37m\u001b[0m \u001b[1m20s\u001b[0m 367ms/step - accuracy: 0.9646 - loss: 0.0814 - val_accuracy: 0.9345 - val_loss: 0.1986\n",
      "Epoch 42/50\n",
      "\u001b[1m55/55\u001b[0m \u001b[32m━━━━━━━━━━━━━━━━━━━━\u001b[0m\u001b[37m\u001b[0m \u001b[1m20s\u001b[0m 366ms/step - accuracy: 0.9826 - loss: 0.0479 - val_accuracy: 0.9466 - val_loss: 0.2265\n",
      "Epoch 43/50\n",
      "\u001b[1m55/55\u001b[0m \u001b[32m━━━━━━━━━━━━━━━━━━━━\u001b[0m\u001b[37m\u001b[0m \u001b[1m20s\u001b[0m 366ms/step - accuracy: 0.9801 - loss: 0.0519 - val_accuracy: 0.9379 - val_loss: 0.1817\n",
      "Epoch 44/50\n",
      "\u001b[1m55/55\u001b[0m \u001b[32m━━━━━━━━━━━━━━━━━━━━\u001b[0m\u001b[37m\u001b[0m \u001b[1m21s\u001b[0m 384ms/step - accuracy: 0.9789 - loss: 0.0614 - val_accuracy: 0.9293 - val_loss: 0.1993\n",
      "Epoch 45/50\n",
      "\u001b[1m55/55\u001b[0m \u001b[32m━━━━━━━━━━━━━━━━━━━━\u001b[0m\u001b[37m\u001b[0m \u001b[1m20s\u001b[0m 366ms/step - accuracy: 0.9778 - loss: 0.0588 - val_accuracy: 0.9379 - val_loss: 0.2365\n",
      "Epoch 46/50\n",
      "\u001b[1m55/55\u001b[0m \u001b[32m━━━━━━━━━━━━━━━━━━━━\u001b[0m\u001b[37m\u001b[0m \u001b[1m20s\u001b[0m 361ms/step - accuracy: 0.9864 - loss: 0.0409 - val_accuracy: 0.9448 - val_loss: 0.2003\n",
      "Epoch 47/50\n",
      "\u001b[1m55/55\u001b[0m \u001b[32m━━━━━━━━━━━━━━━━━━━━\u001b[0m\u001b[37m\u001b[0m \u001b[1m20s\u001b[0m 367ms/step - accuracy: 0.9771 - loss: 0.0549 - val_accuracy: 0.9448 - val_loss: 0.1828\n",
      "Epoch 48/50\n",
      "\u001b[1m55/55\u001b[0m \u001b[32m━━━━━━━━━━━━━━━━━━━━\u001b[0m\u001b[37m\u001b[0m \u001b[1m20s\u001b[0m 361ms/step - accuracy: 0.9816 - loss: 0.0637 - val_accuracy: 0.9431 - val_loss: 0.2059\n",
      "Epoch 49/50\n",
      "\u001b[1m55/55\u001b[0m \u001b[32m━━━━━━━━━━━━━━━━━━━━\u001b[0m\u001b[37m\u001b[0m \u001b[1m20s\u001b[0m 366ms/step - accuracy: 0.9807 - loss: 0.0447 - val_accuracy: 0.9241 - val_loss: 0.2277\n",
      "Epoch 50/50\n",
      "\u001b[1m55/55\u001b[0m \u001b[32m━━━━━━━━━━━━━━━━━━━━\u001b[0m\u001b[37m\u001b[0m \u001b[1m19s\u001b[0m 335ms/step - accuracy: 0.9834 - loss: 0.0564 - val_accuracy: 0.9310 - val_loss: 0.2786\n"
     ]
    }
   ],
   "source": [
    "# Train the model using the training and validation data generators\n",
    "history = model.fit(\n",
    "    train_generator,  # Generator for training data\n",
    "    epochs=50,  # Number of epochs to train the model\n",
    "    validation_data=val_generator  # Generator for validation data\n",
    ")\n"
   ]
  },
  {
   "cell_type": "markdown",
   "metadata": {},
   "source": [
    "# Test the model"
   ]
  },
  {
   "cell_type": "code",
   "execution_count": 15,
   "metadata": {
    "execution": {
     "iopub.status.busy": "2024-12-26T21:21:11.420985Z",
     "iopub.status.idle": "2024-12-26T21:21:11.421705Z",
     "shell.execute_reply": "2024-12-26T21:21:11.421493Z",
     "shell.execute_reply.started": "2024-12-26T21:21:11.421469Z"
    },
    "trusted": true
   },
   "outputs": [
    {
     "name": "stdout",
     "output_type": "stream",
     "text": [
      "\u001b[1m19/19\u001b[0m \u001b[32m━━━━━━━━━━━━━━━━━━━━\u001b[0m\u001b[37m\u001b[0m \u001b[1m2s\u001b[0m 84ms/step - accuracy: 0.9270 - loss: 0.3374\n",
      "Test Loss: 0.25997766852378845\n",
      "Test Accuracy: 0.9362068772315979\n"
     ]
    }
   ],
   "source": [
    "# Evaluate the model using the test data generator\n",
    "test_loss, test_accuracy = model.evaluate(test_generator, steps=len(test_generator))\n",
    "\n",
    "# Print the test loss and accuracy\n",
    "print(f\"Test Loss: {test_loss}\")\n",
    "print(f\"Test Accuracy: {test_accuracy}\")\n"
   ]
  },
  {
   "cell_type": "markdown",
   "metadata": {},
   "source": [
    "# Visualize training & validation accuracy and Loss Values"
   ]
  },
  {
   "cell_type": "code",
   "execution_count": 16,
   "metadata": {
    "execution": {
     "iopub.status.busy": "2024-12-26T21:21:11.423025Z",
     "iopub.status.idle": "2024-12-26T21:21:11.423384Z",
     "shell.execute_reply": "2024-12-26T21:21:11.423203Z",
     "shell.execute_reply.started": "2024-12-26T21:21:11.423188Z"
    },
    "trusted": true
   },
   "outputs": [
    {
     "data": {
      "image/png": "[encoded data removed]",
      "text/plain": [
       "<Figure size 1200x400 with 2 Axes>"
      ]
     },
     "metadata": {},
     "output_type": "display_data"
    }
   ],
   "source": [
    "# Import the necessary library for plotting\n",
    "import matplotlib.pyplot as plt\n",
    "\n",
    "# Create a figure with a specific size\n",
    "plt.figure(figsize=(12, 4))\n",
    "\n",
    "# Plot training and validation accuracy values\n",
    "plt.subplot(1, 2, 1)  # Create a subplot (1 row, 2 columns, 1st plot)\n",
    "plt.plot(history.history['accuracy'])  # Plot training accuracy\n",
    "plt.plot(history.history['val_accuracy'])  # Plot validation accuracy\n",
    "plt.title('Model Accuracy')  # Set the title of the plot\n",
    "plt.xlabel('Epoch')  # Set the x-axis label\n",
    "plt.ylabel('Accuracy')  # Set the y-axis label\n",
    "plt.legend(['Train', 'Validation'], loc='upper left')  # Add a legend to differentiate training and validation accuracy\n",
    "\n",
    "# Plot training and validation loss values\n",
    "plt.subplot(1, 2, 2)  # Create a subplot (1 row, 2 columns, 2nd plot)\n",
    "plt.plot(history.history['loss'])  # Plot training loss\n",
    "plt.plot(history.history['val_loss'])  # Plot validation loss\n",
    "plt.title('Model Loss')  # Set the title of the plot\n",
    "plt.xlabel('Epoch')  # Set the x-axis label\n",
    "plt.ylabel('Loss')  # Set the y-axis label\n",
    "plt.legend(['Train', 'Validation'], loc='upper left')  # Add a legend to differentiate training and validation loss\n",
    "\n",
    "# Adjust the layout to prevent overlap\n",
    "plt.tight_layout()\n",
    "\n",
    "# Display the plots\n",
    "plt.show()\n"
   ]
  },
  {
   "cell_type": "markdown",
   "metadata": {},
   "source": [
    "# Some Examples"
   ]
  },
  {
   "cell_type": "code",
   "execution_count": null,
   "metadata": {
    "execution": {
     "iopub.status.busy": "2024-12-26T21:21:11.424388Z",
     "iopub.status.idle": "2024-12-26T21:21:11.424987Z",
     "shell.execute_reply": "2024-12-26T21:21:11.424871Z",
     "shell.execute_reply.started": "2024-12-26T21:21:11.424856Z"
    },
    "trusted": true
   },
   "outputs": [],
   "source": []
  },
  {
   "cell_type": "markdown",
   "metadata": {},
   "source": [
    "# try model in random image "
   ]
  },
  {
   "cell_type": "code",
   "execution_count": 17,
   "metadata": {
    "execution": {
     "iopub.status.busy": "2024-12-26T21:21:11.426784Z",
     "iopub.status.idle": "2024-12-26T21:21:11.427085Z",
     "shell.execute_reply": "2024-12-26T21:21:11.426952Z",
     "shell.execute_reply.started": "2024-12-26T21:21:11.426937Z"
    },
    "trusted": true
   },
   "outputs": [
    {
     "ename": "FileNotFoundError",
     "evalue": "[Errno 2] No such file or directory: 'D:\\\\kaggle\\\\input\\\\drowsiness-dataset\\\\train\\\\Closed\\\\_1.jpg'",
     "output_type": "error",
     "traceback": [
      "\u001b[1;31m---------------------------------------------------------------------------\u001b[0m",
      "\u001b[1;31mFileNotFoundError\u001b[0m                         Traceback (most recent call last)",
      "Cell \u001b[1;32mIn[17], line 13\u001b[0m\n\u001b[0;32m     10\u001b[0m image_path \u001b[38;5;241m=\u001b[39m \u001b[38;5;124m'\u001b[39m\u001b[38;5;124m/kaggle/input/drowsiness-dataset/train/Closed/_1.jpg\u001b[39m\u001b[38;5;124m'\u001b[39m\n\u001b[0;32m     12\u001b[0m \u001b[38;5;66;03m# Read the image using matplotlib\u001b[39;00m\n\u001b[1;32m---> 13\u001b[0m image \u001b[38;5;241m=\u001b[39m \u001b[43mplt\u001b[49m\u001b[38;5;241;43m.\u001b[39;49m\u001b[43mimread\u001b[49m\u001b[43m(\u001b[49m\u001b[43mimage_path\u001b[49m\u001b[43m)\u001b[49m\n\u001b[0;32m     15\u001b[0m \u001b[38;5;66;03m# Resize the image to (150,150) using OpenCV\u001b[39;00m\n\u001b[0;32m     16\u001b[0m resized_image \u001b[38;5;241m=\u001b[39m cv2\u001b[38;5;241m.\u001b[39mresize(image, (\u001b[38;5;241m150\u001b[39m, \u001b[38;5;241m150\u001b[39m))\n",
      "File \u001b[1;32m~\\AppData\\Local\\Packages\\PythonSoftwareFoundation.Python.3.12_qbz5n2kfra8p0\\LocalCache\\local-packages\\Python312\\site-packages\\matplotlib\\pyplot.py:2597\u001b[0m, in \u001b[0;36mimread\u001b[1;34m(fname, format)\u001b[0m\n\u001b[0;32m   2593\u001b[0m \u001b[38;5;129m@_copy_docstring_and_deprecators\u001b[39m(matplotlib\u001b[38;5;241m.\u001b[39mimage\u001b[38;5;241m.\u001b[39mimread)\n\u001b[0;32m   2594\u001b[0m \u001b[38;5;28;01mdef\u001b[39;00m \u001b[38;5;21mimread\u001b[39m(\n\u001b[0;32m   2595\u001b[0m         fname: \u001b[38;5;28mstr\u001b[39m \u001b[38;5;241m|\u001b[39m pathlib\u001b[38;5;241m.\u001b[39mPath \u001b[38;5;241m|\u001b[39m BinaryIO, \u001b[38;5;28mformat\u001b[39m: \u001b[38;5;28mstr\u001b[39m \u001b[38;5;241m|\u001b[39m \u001b[38;5;28;01mNone\u001b[39;00m \u001b[38;5;241m=\u001b[39m \u001b[38;5;28;01mNone\u001b[39;00m\n\u001b[0;32m   2596\u001b[0m ) \u001b[38;5;241m-\u001b[39m\u001b[38;5;241m>\u001b[39m np\u001b[38;5;241m.\u001b[39mndarray:\n\u001b[1;32m-> 2597\u001b[0m     \u001b[38;5;28;01mreturn\u001b[39;00m \u001b[43mmatplotlib\u001b[49m\u001b[38;5;241;43m.\u001b[39;49m\u001b[43mimage\u001b[49m\u001b[38;5;241;43m.\u001b[39;49m\u001b[43mimread\u001b[49m\u001b[43m(\u001b[49m\u001b[43mfname\u001b[49m\u001b[43m,\u001b[49m\u001b[43m \u001b[49m\u001b[38;5;28;43mformat\u001b[39;49m\u001b[43m)\u001b[49m\n",
      "File \u001b[1;32m~\\AppData\\Local\\Packages\\PythonSoftwareFoundation.Python.3.12_qbz5n2kfra8p0\\LocalCache\\local-packages\\Python312\\site-packages\\matplotlib\\image.py:1544\u001b[0m, in \u001b[0;36mimread\u001b[1;34m(fname, format)\u001b[0m\n\u001b[0;32m   1537\u001b[0m \u001b[38;5;28;01mif\u001b[39;00m \u001b[38;5;28misinstance\u001b[39m(fname, \u001b[38;5;28mstr\u001b[39m) \u001b[38;5;129;01mand\u001b[39;00m \u001b[38;5;28mlen\u001b[39m(parse\u001b[38;5;241m.\u001b[39murlparse(fname)\u001b[38;5;241m.\u001b[39mscheme) \u001b[38;5;241m>\u001b[39m \u001b[38;5;241m1\u001b[39m:\n\u001b[0;32m   1538\u001b[0m     \u001b[38;5;66;03m# Pillow doesn't handle URLs directly.\u001b[39;00m\n\u001b[0;32m   1539\u001b[0m     \u001b[38;5;28;01mraise\u001b[39;00m \u001b[38;5;167;01mValueError\u001b[39;00m(\n\u001b[0;32m   1540\u001b[0m         \u001b[38;5;124m\"\u001b[39m\u001b[38;5;124mPlease open the URL for reading and pass the \u001b[39m\u001b[38;5;124m\"\u001b[39m\n\u001b[0;32m   1541\u001b[0m         \u001b[38;5;124m\"\u001b[39m\u001b[38;5;124mresult to Pillow, e.g. with \u001b[39m\u001b[38;5;124m\"\u001b[39m\n\u001b[0;32m   1542\u001b[0m         \u001b[38;5;124m\"\u001b[39m\u001b[38;5;124m``np.array(PIL.Image.open(urllib.request.urlopen(url)))``.\u001b[39m\u001b[38;5;124m\"\u001b[39m\n\u001b[0;32m   1543\u001b[0m         )\n\u001b[1;32m-> 1544\u001b[0m \u001b[38;5;28;01mwith\u001b[39;00m \u001b[43mimg_open\u001b[49m\u001b[43m(\u001b[49m\u001b[43mfname\u001b[49m\u001b[43m)\u001b[49m \u001b[38;5;28;01mas\u001b[39;00m image:\n\u001b[0;32m   1545\u001b[0m     \u001b[38;5;28;01mreturn\u001b[39;00m (_pil_png_to_float_array(image)\n\u001b[0;32m   1546\u001b[0m             \u001b[38;5;28;01mif\u001b[39;00m \u001b[38;5;28misinstance\u001b[39m(image, PIL\u001b[38;5;241m.\u001b[39mPngImagePlugin\u001b[38;5;241m.\u001b[39mPngImageFile) \u001b[38;5;28;01melse\u001b[39;00m\n\u001b[0;32m   1547\u001b[0m             pil_to_array(image))\n",
      "File \u001b[1;32m~\\AppData\\Local\\Packages\\PythonSoftwareFoundation.Python.3.12_qbz5n2kfra8p0\\LocalCache\\local-packages\\Python312\\site-packages\\PIL\\Image.py:3469\u001b[0m, in \u001b[0;36mopen\u001b[1;34m(fp, mode, formats)\u001b[0m\n\u001b[0;32m   3466\u001b[0m     filename \u001b[38;5;241m=\u001b[39m os\u001b[38;5;241m.\u001b[39mpath\u001b[38;5;241m.\u001b[39mrealpath(os\u001b[38;5;241m.\u001b[39mfspath(fp))\n\u001b[0;32m   3468\u001b[0m \u001b[38;5;28;01mif\u001b[39;00m filename:\n\u001b[1;32m-> 3469\u001b[0m     fp \u001b[38;5;241m=\u001b[39m \u001b[43mbuiltins\u001b[49m\u001b[38;5;241;43m.\u001b[39;49m\u001b[43mopen\u001b[49m\u001b[43m(\u001b[49m\u001b[43mfilename\u001b[49m\u001b[43m,\u001b[49m\u001b[43m \u001b[49m\u001b[38;5;124;43m\"\u001b[39;49m\u001b[38;5;124;43mrb\u001b[39;49m\u001b[38;5;124;43m\"\u001b[39;49m\u001b[43m)\u001b[49m\n\u001b[0;32m   3470\u001b[0m     exclusive_fp \u001b[38;5;241m=\u001b[39m \u001b[38;5;28;01mTrue\u001b[39;00m\n\u001b[0;32m   3471\u001b[0m \u001b[38;5;28;01melse\u001b[39;00m:\n",
      "\u001b[1;31mFileNotFoundError\u001b[0m: [Errno 2] No such file or directory: 'D:\\\\kaggle\\\\input\\\\drowsiness-dataset\\\\train\\\\Closed\\\\_1.jpg'"
     ]
    }
   ],
   "source": [
    "# Define the class labels dictionary\n",
    "classes = {\n",
    "    0: \"Closed\",\n",
    "    1: \"Open\",\n",
    "    2: \"no_yawn\",\n",
    "    3: \"yawn\"\n",
    "}\n",
    "\n",
    "# Path to the image you want to predict\n",
    "image_path = '/kaggle/input/drowsiness-dataset/train/Closed/_1.jpg'\n",
    "\n",
    "# Read the image using matplotlib\n",
    "image = plt.imread(image_path)\n",
    "\n",
    "# Resize the image to (150,150) using OpenCV\n",
    "resized_image = cv2.resize(image, (150, 150))\n",
    "\n",
    "# Convert the image to grayscale\n",
    "gray_image = cv2.cvtColor(resized_image, cv2.COLOR_BGR2GRAY)\n",
    "\n",
    "# Add a channel dimension to the image\n",
    "gray_image = np.expand_dims(gray_image, axis=-1)\n",
    "\n",
    "# Add a batch dimension to the image\n",
    "gray_image = np.expand_dims(gray_image, axis=0)\n",
    "\n",
    "# Predict the class of the image\n",
    "predictions = model.predict(gray_image)\n",
    "\n",
    "# Convert predicted probabilities to class index\n",
    "predicted_class = np.argmax(predictions, axis=1)[0]\n",
    "\n",
    "# Retrieve the class label from the dictionary\n",
    "predicted_label = classes[predicted_class]\n",
    "\n",
    "print(f\"Actual Class Closed\")\n",
    "print(f\"Predicted Class: {predicted_label}\")\n"
   ]
  },
  {
   "cell_type": "markdown",
   "metadata": {},
   "source": [
    "# save model"
   ]
  },
  {
   "cell_type": "code",
   "execution_count": null,
   "metadata": {
    "execution": {
     "iopub.status.busy": "2024-12-26T21:21:11.428361Z",
     "iopub.status.idle": "2024-12-26T21:21:11.428655Z",
     "shell.execute_reply": "2024-12-26T21:21:11.428532Z",
     "shell.execute_reply.started": "2024-12-26T21:21:11.428517Z"
    },
    "trusted": true
   },
   "outputs": [],
   "source": [
    "import pickle\n",
    "import tensorflow as tf\n",
    "\n",
    "# # Assuming 'model' is your trained TensorFlow model\n",
    "model.save('DDD-model.pkl')\n",
    "\n",
    "# model.save(\"DDD_model.h5\")\n",
    "# print(\"Model saved as DDD_model.h5\")"
   ]
  },
  {
   "cell_type": "markdown",
   "metadata": {},
   "source": [
    "# End"
   ]
  }
 ],
 "metadata": {
  "kaggle": {
   "accelerator": "gpu",
   "dataSources": [
    {
     "datasetId": 896350,
     "sourceId": 1520586,
     "sourceType": "datasetVersion"
    }
   ],
   "dockerImageVersionId": 30805,
   "isGpuEnabled": true,
   "isInternetEnabled": true,
   "language": "python",
   "sourceType": "notebook"
  },
  "kernelspec": {
   "display_name": "Python 3",
   "language": "python",
   "name": "python3"
  },
  "language_info": {
   "codemirror_mode": {
    "name": "ipython",
    "version": 3
   },
   "file_extension": ".py",
   "mimetype": "text/x-python",
   "name": "python",
   "nbconvert_exporter": "python",
   "pygments_lexer": "ipython3",
   "version": "3.12.10"
  }
 },
 "nbformat": 4,
 "nbformat_minor": 4
}
